{
  "nbformat": 4,
  "nbformat_minor": 0,
  "metadata": {
    "colab": {
      "provenance": []
    },
    "kernelspec": {
      "name": "python3",
      "display_name": "Python 3"
    },
    "language_info": {
      "name": "python"
    }
  },
  "cells": [
    {
      "cell_type": "code",
      "execution_count": 46,
      "metadata": {
        "id": "5puGjqHgMnx9",
        "colab": {
          "base_uri": "https://localhost:8080/"
        },
        "outputId": "693e813d-46f7-4013-83e9-0034eeff4203"
      },
      "outputs": [
        {
          "output_type": "stream",
          "name": "stdout",
          "text": [
            "Requirement already satisfied: matplotlib in /usr/local/lib/python3.10/dist-packages (3.10.0)\n",
            "Requirement already satisfied: deap in /usr/local/lib/python3.10/dist-packages (1.4.1)\n",
            "Requirement already satisfied: contourpy>=1.0.1 in /usr/local/lib/python3.10/dist-packages (from matplotlib) (1.3.1)\n",
            "Requirement already satisfied: cycler>=0.10 in /usr/local/lib/python3.10/dist-packages (from matplotlib) (0.12.1)\n",
            "Requirement already satisfied: fonttools>=4.22.0 in /usr/local/lib/python3.10/dist-packages (from matplotlib) (4.55.3)\n",
            "Requirement already satisfied: kiwisolver>=1.3.1 in /usr/local/lib/python3.10/dist-packages (from matplotlib) (1.4.8)\n",
            "Requirement already satisfied: numpy>=1.23 in /usr/local/lib/python3.10/dist-packages (from matplotlib) (1.26.4)\n",
            "Requirement already satisfied: packaging>=20.0 in /usr/local/lib/python3.10/dist-packages (from matplotlib) (24.2)\n",
            "Requirement already satisfied: pillow>=8 in /usr/local/lib/python3.10/dist-packages (from matplotlib) (11.1.0)\n",
            "Requirement already satisfied: pyparsing>=2.3.1 in /usr/local/lib/python3.10/dist-packages (from matplotlib) (3.2.1)\n",
            "Requirement already satisfied: python-dateutil>=2.7 in /usr/local/lib/python3.10/dist-packages (from matplotlib) (2.8.2)\n",
            "Requirement already satisfied: six>=1.5 in /usr/local/lib/python3.10/dist-packages (from python-dateutil>=2.7->matplotlib) (1.17.0)\n"
          ]
        }
      ],
      "source": [
        "#TASK 1 - Install matplotlib and deap\n",
        "#       - Import all necessary libraries\n",
        "!pip install matplotlib deap\n",
        "import random\n",
        "import numpy as np\n",
        "import matplotlib.pyplot as plt\n",
        "from deap import base,creator,tools,algorithms\n",
        "\n",
        "\n",
        "\n"
      ]
    },
    {
      "cell_type": "code",
      "source": [
        "# TODO: Task 2 - Define the number of locations and vehicles\n",
        "\n",
        "num_locations =10 # Define the number of locations (eg 10)\n",
        "\n",
        "locations = [(random.randint(0,100),random.randint(0,100)) for _ in range(num_locations)]# Create a list of tuples representing location coordinates -\n",
        "            # try to use a random number generator\n",
        "            # (x, y) could be between 0 and 100\n",
        "\n",
        "depot = (50,50)# Define the coordinates for the depot\n",
        "\n",
        "num_vehicles = 3# Define the number of vehicles - (eg 3)\n",
        "print(locations)\n"
      ],
      "metadata": {
        "id": "KWk2KjnBP1Vw",
        "colab": {
          "base_uri": "https://localhost:8080/"
        },
        "outputId": "419f90da-f07a-4b43-8ad6-8a5d3fdde0b8"
      },
      "execution_count": 47,
      "outputs": [
        {
          "output_type": "stream",
          "name": "stdout",
          "text": [
            "[(49, 22), (24, 92), (86, 6), (1, 24), (56, 29), (50, 25), (59, 99), (87, 44), (61, 96), (4, 66)]\n"
          ]
        }
      ]
    },
    {
      "cell_type": "code",
      "source": [
        "# TASK 3 - Genetic Algorithm Setup\n",
        "       # - Figure out how to represent an individual OR encode an individual\n",
        "\n",
        "creator.create(\"FitnessMin\",base.Fitness,weights=(-1.0,-1.0) )\n",
        "creator.create(\"Individual\",list,fitness=creator.FitnessMin )"
      ],
      "metadata": {
        "id": "iE28JnyGUpNf"
      },
      "execution_count": 48,
      "outputs": []
    },
    {
      "cell_type": "code",
      "source": [
        "#TASK 4 - Starting with the toolbox and tools\n",
        "\n",
        "toolbox = base.Toolbox()\n",
        "toolbox.register(\"indices\", random.sample, range(num_locations), num_locations)\n",
        "toolbox.register(\"individual\",tools.initIterate,creator.Individual,toolbox.indices) #finish defining how to build an individual)\n",
        "toolbox.register(\"population\", tools.initRepeat,list,toolbox.individual,n=50)#finish defining how to build an population)"
      ],
      "metadata": {
        "id": "nKqjWEqIVtPN"
      },
      "execution_count": 49,
      "outputs": []
    },
    {
      "cell_type": "code",
      "source": [
        "def evalVRP(individual):\n",
        "    total_distance = 0\n",
        "    distances = []  # Track distance traveled by each vehicle for balance calculation\n",
        "    # Split the list of locations among vehicles, ensuring each starts and ends at the depot\n",
        "    for i in range(num_vehicles):\n",
        "\n",
        "        vehicle_route = [depot] + [locations[individual[j]] for j in range(i, len(individual), num_vehicles)] + [depot]\n",
        "\n",
        "        # Calculate total distance traveled by this vehicle\n",
        "        vehicle_distance=0\n",
        "        for i in range(len(vehicle_route)-1):\n",
        "            vehicle_distance+=np.sqrt((vehicle_route[i + 1][0] - vehicle_route[i][0])**2 +\n",
        "                                       (vehicle_route[i + 1][1] - vehicle_route[i][1])**2)\n",
        "            total_distance += vehicle_distance\n",
        "            distances.append(vehicle_distance)\n",
        "\n",
        "    balance_penalty = np.std(distances)  # Use standard deviation of distances as a penalty for imbalance among vehicles\n",
        "    return total_distance, balance_penalty\n",
        "\n",
        "toolbox.register(\"evaluate\", evalVRP)\n",
        "\n"
      ],
      "metadata": {
        "id": "G-4Lv5VjlCfe"
      },
      "execution_count": 50,
      "outputs": []
    },
    {
      "cell_type": "code",
      "source": [
        "#HINTS\n",
        "\n",
        "#Select is simpler, try tournament selection or roulette selection. Look up how to add that.\n",
        "\n",
        "#FOR mutation - mutShuffleIndexes\n",
        "\n",
        "#For mate - cxPartialyMatched, cxOrdered"
      ],
      "metadata": {
        "id": "aAc9S_B_2M2g"
      },
      "execution_count": null,
      "outputs": []
    },
    {
      "cell_type": "code",
      "source": [
        "# TODO: Task 7 - Configure the genetic operators\n",
        "\n",
        "toolbox.register(\"mate\", tools.cxOrdered)# Choose and configure a crossover method)\n",
        "toolbox.register(\"mutate\",tools.mutShuffleIndexes,indpb=0.05) # Choose and configure a mutation method)\n",
        "toolbox.register(\"select\",tools.selTournament,tournsize=3) # Choose and configure a selection method)"
      ],
      "metadata": {
        "id": "2a4doVkKzIuJ"
      },
      "execution_count": 51,
      "outputs": []
    },
    {
      "cell_type": "code",
      "source": [
        "# Plotting Function\n",
        "def plot_routes(individual, title=\"Routes\"):\n",
        "    #TODO: Task 5 - Write a function to visualize the routes - just plot the points and lines for each vehicle\n",
        "     \"\"\"Visualizes the routes of vehicles based on the individual's solution.\n",
        "\n",
        "    Args:\n",
        "        individual: A list representing the order of locations visited.\n",
        "        title: The title of the plot.\n",
        "    \"\"\"\n",
        "\n",
        "    # Create a new figure and axes\n",
        "     fig, ax = plt.subplots()\n",
        "\n",
        "    # Plot the depot\n",
        "     ax.scatter(depot[0], depot[1], marker='s', color='black', label='Depot')\n",
        "\n",
        "    # Plot the locations\n",
        "     for i, location in enumerate(locations):\n",
        "        ax.scatter(location[0], location[1], marker='o', color='blue', label=f'Location {i + 1}')\n",
        "\n",
        "    # Plot the routes for each vehicle with different colors\n",
        "     colors = ['red', 'green', 'purple', 'orange', 'cyan']  # Add more colors if needed\n",
        "     for i in range(num_vehicles):\n",
        "        # Extract the route for the current vehicle\n",
        "        vehicle_route = [depot] + [locations[individual[j]] for j in range(i, len(individual), num_vehicles)] + [depot]\n",
        "\n",
        "        # Plot the route as a line\n",
        "        route_x = [loc[0] for loc in vehicle_route]\n",
        "        route_y = [loc[1] for loc in vehicle_route]\n",
        "        ax.plot(route_x, route_y, color=colors[i % len(colors)], label=f'Vehicle {i + 1}')\n",
        "\n",
        "    # Set plot title and labels\n",
        "     ax.set_title(title)\n",
        "     ax.set_xlabel(\"X Coordinate\")\n",
        "     ax.set_ylabel(\"Y Coordinate\")\n",
        "\n",
        "    # Add legend\n",
        "\n",
        "\n",
        "    # Show the plot\n",
        "     plt.show()\n"
      ],
      "metadata": {
        "id": "H7q124AmMjPK"
      },
      "execution_count": 52,
      "outputs": []
    },
    {
      "cell_type": "code",
      "source": [
        "# Running the Genetic Algorithm\n",
        "def main():\n",
        "    random.seed(42)\n",
        "    pop = toolbox.population(n=300)\n",
        "    hof = tools.HallOfFame(1)\n",
        "\n",
        "    stats = tools.Statistics(lambda ind: ind.fitness.values)\n",
        "    stats.register(\"avg\", np.mean)\n",
        "    stats.register(\"min\", np.min)\n",
        "\n",
        "    algorithms.eaSimple(pop, toolbox, 0.7, 0.2, 30, stats=stats, halloffame=hof)\n",
        "    #Refer eaSimple here - https://deap.readthedocs.io/en/master/api/algo.html\n",
        "    plot_routes(hof[0])\n",
        "\n",
        "    return pop, stats, hof\n",
        "\n",
        "if __name__ == \"__main__\":\n",
        "    # TODO: Task 9 - Call the main function, run the algorithm and print the results\n",
        "    main()\n",
        "\n"
      ],
      "metadata": {
        "colab": {
          "base_uri": "https://localhost:8080/",
          "height": 1000
        },
        "id": "XRi697DqWTFt",
        "outputId": "c9340854-d1c6-4f97-bd1f-bf6db1a3f32a"
      },
      "execution_count": 53,
      "outputs": [
        {
          "output_type": "stream",
          "name": "stdout",
          "text": [
            "gen\tnevals\tavg    \tmin    \n",
            "0  \t300   \t942.165\t50.4425\n",
            "1  \t221   \t886.202\t42.5771\n",
            "2  \t238   \t876.714\t48.4553\n",
            "3  \t227   \t867.215\t43.4181\n",
            "4  \t237   \t863.825\t43.4181\n",
            "5  \t235   \t862.085\t43.4181\n",
            "6  \t235   \t849.113\t43.4181\n",
            "7  \t232   \t841.952\t43.4181\n",
            "8  \t211   \t832.267\t42.9269\n",
            "9  \t225   \t818.372\t43.4181\n",
            "10 \t230   \t817.537\t44.3244\n",
            "11 \t237   \t808.083\t42.9269\n",
            "12 \t221   \t795.174\t44.3244\n",
            "13 \t237   \t796.206\t44.1958\n",
            "14 \t207   \t777.993\t44.3244\n",
            "15 \t241   \t752.103\t44.8065\n",
            "16 \t233   \t704.212\t45.5509\n",
            "17 \t219   \t662.579\t47.6747\n",
            "18 \t221   \t656.514\t48.2462\n",
            "19 \t231   \t689.206\t48.2462\n",
            "20 \t225   \t692.927\t46.0342\n",
            "21 \t243   \t697.362\t46.0342\n",
            "22 \t241   \t717.534\t44.4744\n",
            "23 \t207   \t718.084\t46.0342\n",
            "24 \t214   \t701.019\t46.0342\n",
            "25 \t248   \t685.839\t46.0342\n",
            "26 \t227   \t673.179\t46.0342\n",
            "27 \t234   \t682.916\t46.0342\n",
            "28 \t228   \t674.942\t46.0342\n",
            "29 \t216   \t677.007\t46.0342\n",
            "30 \t240   \t679.406\t46.0342\n"
          ]
        },
        {
          "output_type": "display_data",
          "data": {
            "text/plain": [
              "<Figure size 640x480 with 1 Axes>"
            ],
            "image/png": "[encoded data removed]"
          },
          "metadata": {}
        }
      ]
    }
  ]
}